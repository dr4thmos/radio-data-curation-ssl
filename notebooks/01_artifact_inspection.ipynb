{
 "cells": [
  {
   "cell_type": "code",
   "execution_count": 1,
   "metadata": {},
   "outputs": [
    {
     "name": "stdout",
     "output_type": "stream",
     "text": [
      "Project root impostato su: /leonardo_work/INA24_C5B09/radio-data-curation-ssl\n",
      "MLflow tracking URI impostato su: file:///leonardo_work/INA24_C5B09/radio-data-curation-ssl/mlruns\n"
     ]
    }
   ],
   "source": [
    "import sys\n",
    "from pathlib import Path\n",
    "import mlflow\n",
    "\n",
    "# 1. Aggiungi la root del progetto al path di Python\n",
    "#    Path.cwd() è la directory del notebook: '.../notebooks'\n",
    "#    .parent è la root del progetto: '.../radio-data-curation-ssl'\n",
    "project_root = Path.cwd().parent\n",
    "if str(project_root) not in sys.path:\n",
    "    sys.path.append(str(project_root))\n",
    "\n",
    "# 2. Imposta ESPLICITAMENTE il Tracking URI di MLflow\n",
    "mlflow_tracking_uri = project_root / \"mlruns\"\n",
    "mlflow.set_tracking_uri(mlflow_tracking_uri.as_uri())\n",
    "\n",
    "print(f\"Project root impostato su: {project_root}\")\n",
    "print(f\"MLflow tracking URI impostato su: {mlflow.get_tracking_uri()}\")\n",
    "\n",
    "\n",
    "from pathlib import Path\n",
    "from src.data.data_loaders import (\n",
    "    CutoutLoader,\n",
    "    FeaturesLoader,\n",
    "    ClusteringLoader,\n",
    "    SamplingLoader,\n",
    "    SourceNotFoundError,\n",
    "    MLflowArtifactLoader\n",
    ")"
   ]
  },
  {
   "cell_type": "code",
   "execution_count": 2,
   "metadata": {},
   "outputs": [
    {
     "name": "stdout",
     "output_type": "stream",
     "text": [
      "--- Ispezione Artefatto: Cutout List ---\n",
      "Caricamento riuscito da: /leonardo_work/INA24_C5B09/radio-data-curation-ssl/outputs/cutouts/cutouts-strategy_sliding_window-overlap_05-size_256_30d67552/info.json\n",
      "Numero totale di cutout trovati: 3112435\n",
      "\n",
      "Dettagli del primo cutout:\n",
      "  ID: 0\n",
      "  Path: outputs/cutouts/cutouts-strategy_sliding_window-overlap_05-size_256_30d67552/P184+57/npy/patch_128_3072.npy\n",
      "  Survey: LoTTS\n",
      "  Posizione: (128, 3072)\n"
     ]
    }
   ],
   "source": [
    "# =============================================================================\n",
    "# SNIPPET 1: Caricare e Ispezionare una Lista di Cutout\n",
    "# =============================================================================\n",
    "print(\"--- Ispezione Artefatto: Cutout List ---\")\n",
    "# Prerequisito: Trova il path di un file info.json generato da cutout.py o merge_cutouts.py\n",
    "#path_to_cutout_list = Path(\"outputs/merged_cutouts/merged_cutouts_...hash.../info.json\")\n",
    "path_to_cutout_list = Path(\"/leonardo_work/INA24_C5B09/radio-data-curation-ssl/outputs/cutouts/cutouts-strategy_sliding_window-overlap_05-size_256_30d67552/info.json\")\n",
    "\n",
    "try:\n",
    "    cutout_data = CutoutLoader.from_json(path_to_cutout_list)\n",
    "    \n",
    "    print(f\"Caricamento riuscito da: {path_to_cutout_list}\")\n",
    "    print(f\"Numero totale di cutout trovati: {len(cutout_data.cutouts)}\")\n",
    "    \n",
    "    # Ispeziona il primo cutout per verificarne la struttura\n",
    "    if cutout_data.cutouts:\n",
    "        first_cutout = cutout_data.cutouts[0]\n",
    "        print(\"\\nDettagli del primo cutout:\")\n",
    "        print(f\"  ID: {first_cutout.id}\")\n",
    "        print(f\"  Path: {first_cutout.file_path}\")\n",
    "        print(f\"  Survey: {first_cutout.survey}\")\n",
    "        print(f\"  Posizione: {first_cutout.position}\")\n",
    "\n",
    "except SourceNotFoundError as e:\n",
    "    print(f\"ERRORE: Impossibile caricare la lista dei cutout. {e}\")\n",
    "except Exception as e:\n",
    "    print(f\"ERRORE INATTESO: {e}\")"
   ]
  },
  {
   "cell_type": "code",
   "execution_count": 9,
   "metadata": {},
   "outputs": [
    {
     "name": "stdout",
     "output_type": "stream",
     "text": [
      "\n",
      "--- Ispezione Artefatto: Features & Image Paths Archive ---\n",
      "Caricamento features riuscito da: /leonardo_work/INA24_C5B09/radio-data-curation-ssl/outputs/features/features-model_vit_small_patch14_reg4_dinov2lvd142m-variant__b27e541a/features_data_fast.h5\n",
      "Shape dell'array di features: (9606, 384)\n",
      "  (Numero di campioni, Dimensione delle features)\n",
      "\n",
      "Caricamento percorsi immagini riuscito da: /leonardo_work/INA24_C5B09/radio-data-curation-ssl/outputs/features/features-model_vit_small_patch14_reg4_dinov2lvd142m-variant__b27e541a/features_data_fast.h5\n",
      "Numero totale di percorsi trovati: 9606\n",
      "\n",
      "Primi 3 percorsi trovati:\n",
      "  - /leonardo_work/INA24_C5B09/lofar_rgz_dataset/lotss_dr2_morph_horton-dataset/data/npy/ILTJ000003.76+314705.5.npy\n",
      "  - /leonardo_work/INA24_C5B09/lofar_rgz_dataset/lotss_dr2_morph_horton-dataset/data/npy/ILTJ000005.31+205913.2.npy\n",
      "  - /leonardo_work/INA24_C5B09/lofar_rgz_dataset/lotss_dr2_morph_horton-dataset/data/npy/ILTJ000025.69+342004.8.npy\n"
     ]
    }
   ],
   "source": [
    "# =============================================================================\n",
    "# SNIPPET 2: Caricare Features e Percorsi Immagini dall'Archivio HDF5\n",
    "# =============================================================================\n",
    "print(\"\\n--- Ispezione Artefatto: Features & Image Paths Archive ---\")\n",
    "# Prerequisito: Trova il path di un file .h5 generato da feature_extraction.py\n",
    "path_to_features_h5 = Path(\"/leonardo_work/INA24_C5B09/radio-data-curation-ssl/outputs/features/features-model_vit_small_patch14_reg4_dinov2lvd142m-variant__b27e541a/features_data_fast.h5\")\n",
    "path_to_features_npy = Path(\"/leonardo_work/INA24_C5B09/radio-data-curation-ssl/outputs/features/features-model_vit_small_patch14_reg4_dinov2lvd142m-variant__64effbed/features.npy\")\n",
    "mlflow_id = \"94511e7430364c938bdaf44d725dc36c\"\n",
    "\n",
    "# 2a: Caricare solo le features\n",
    "try:\n",
    "    features_data = FeaturesLoader.load_features_from_path(path_to_features_h5)\n",
    "    \n",
    "    print(f\"Caricamento features riuscito da: {path_to_features_h5}\")\n",
    "    print(f\"Shape dell'array di features: {features_data.features.shape}\")\n",
    "    print(f\"  (Numero di campioni, Dimensione delle features)\")\n",
    "    \n",
    "except SourceNotFoundError as e:\n",
    "    print(f\"ERRORE: Impossibile caricare le features. {e}\")\n",
    "except Exception as e:\n",
    "    print(f\"ERRORE INATTESO: {e}\")\n",
    "\n",
    "# 2b: Caricare solo i percorsi delle immagini\n",
    "try:\n",
    "    image_paths_data = FeaturesLoader.load_image_paths_from_h5(path_to_features_h5)\n",
    "    \n",
    "    print(f\"\\nCaricamento percorsi immagini riuscito da: {path_to_features_h5}\")\n",
    "    print(f\"Numero totale di percorsi trovati: {len(image_paths_data.paths)}\")\n",
    "\n",
    "    if image_paths_data.paths:\n",
    "        print(\"\\nPrimi 3 percorsi trovati:\")\n",
    "        for p in image_paths_data.paths[:3]:\n",
    "            print(f\"  - {p}\")\n",
    "            \n",
    "except SourceNotFoundError as e:\n",
    "    print(f\"ERRORE: Impossibile caricare i percorsi delle immagini. {e}\")\n",
    "except Exception as e:\n",
    "    print(f\"ERRORE INATTESO: {e}\")"
   ]
  },
  {
   "cell_type": "code",
   "execution_count": 10,
   "metadata": {},
   "outputs": [
    {
     "name": "stdout",
     "output_type": "stream",
     "text": [
      "\n",
      "--- Ispezione Artefatto: Features & Image Paths Archive ---\n",
      "Caricamento features riuscito da: /leonardo_work/INA24_C5B09/radio-data-curation-ssl/outputs/features/features-model_vit_small_patch14_reg4_dinov2lvd142m-variant__64effbed/features.npy\n",
      "Shape dell'array di features: (3112435, 384)\n",
      "  (Numero di campioni, Dimensione delle features)\n"
     ]
    }
   ],
   "source": [
    "# =============================================================================\n",
    "# SNIPPET 2: Caricare Features e Percorsi Immagini dal npy RETROCOMPATIBLITA\n",
    "# =============================================================================\n",
    "print(\"\\n--- Ispezione Artefatto: Features & Image Paths Archive ---\")\n",
    "# Prerequisito: Trova il path di un file .npy generato da feature_extraction.py\n",
    "path_to_features_npy = Path(\"/leonardo_work/INA24_C5B09/radio-data-curation-ssl/outputs/features/features-model_vit_small_patch14_reg4_dinov2lvd142m-variant__64effbed/features.npy\")\n",
    "mlflow_id = \"94511e7430364c938bdaf44d725dc36c\"\n",
    "\n",
    "# 2a: Caricare solo le features\n",
    "try:\n",
    "    features_data = FeaturesLoader.load_features_from_path(path_to_features_npy)\n",
    "    \n",
    "    print(f\"Caricamento features riuscito da: {path_to_features_npy}\")\n",
    "    print(f\"Shape dell'array di features: {features_data.features.shape}\")\n",
    "    print(f\"  (Numero di campioni, Dimensione delle features)\")\n",
    "    \n",
    "except SourceNotFoundError as e:\n",
    "    print(f\"ERRORE: Impossibile caricare le features. {e}\")\n",
    "except Exception as e:\n",
    "    print(f\"ERRORE INATTESO: {e}\")\n",
    "           \n",
    "except SourceNotFoundError as e:\n",
    "    print(f\"ERRORE: Impossibile caricare i percorsi delle immagini. {e}\")\n",
    "except Exception as e:\n",
    "    print(f\"ERRORE INATTESO: {e}\")"
   ]
  },
  {
   "cell_type": "code",
   "execution_count": 7,
   "metadata": {},
   "outputs": [
    {
     "name": "stdout",
     "output_type": "stream",
     "text": [
      "\n",
      "--- Ispezione Artefatto: Clustering Results ---\n",
      "Caricamento risultati clustering riuscito da: /leonardo_work/INA24_C5B09/radio-data-curation-ssl/outputs/clusters/clusters-n_levels_2-level0_5000-level1_50_a33db3d6/level2\n",
      "Numero di cluster trovati: 50\n",
      "Shape dell'array dei centroidi: (50, 512)\n",
      "\n",
      "Numero di elementi nel primo cluster: 14\n",
      "Primi 5 indici del primo cluster: [ 55 394 122 204 229]\n"
     ]
    }
   ],
   "source": [
    "# =============================================================================\n",
    "# SNIPPET 3: Caricare i Risultati del Clustering\n",
    "# =============================================================================\n",
    "print(\"\\n--- Ispezione Artefatto: Clustering Results ---\")\n",
    "# Prerequisito: Trova il path della DIRECTORY di output di un'esecuzione di clustering specificando\n",
    "#path_to_clustering_dir = Path(\"path/to/your/clustering_exp_dir/\")\n",
    "path_to_clustering_dir = Path(\"/leonardo_work/INA24_C5B09/radio-data-curation-ssl/outputs/clusters/clusters-n_levels_2-level0_5000-level1_50_a33db3d6/level2\")\n",
    "\n",
    "\n",
    "try:\n",
    "    clustering_data = ClusteringLoader.from_directory(path_to_clustering_dir)\n",
    "    \n",
    "    print(f\"Caricamento risultati clustering riuscito da: {path_to_clustering_dir}\")\n",
    "    print(f\"Numero di cluster trovati: {len(clustering_data.clusters)}\")\n",
    "    print(f\"Shape dell'array dei centroidi: {clustering_data.centroids.shape}\")\n",
    "    \n",
    "    if clustering_data.clusters:\n",
    "        print(f\"\\nNumero di elementi nel primo cluster: {len(clustering_data.clusters[0])}\")\n",
    "        print(f\"Primi 5 indici del primo cluster: {clustering_data.clusters[0][:5]}\")\n",
    "\n",
    "except SourceNotFoundError as e:\n",
    "    print(f\"ERRORE: Impossibile caricare i risultati del clustering. {e}\")\n",
    "except Exception as e:\n",
    "    print(f\"ERRORE INATTESO: {e}\")\n"
   ]
  },
  {
   "cell_type": "code",
   "execution_count": 4,
   "metadata": {},
   "outputs": [
    {
     "name": "stdout",
     "output_type": "stream",
     "text": [
      "\n",
      "--- Ispezione Artefatto: Gerarchia di Clustering ---\n",
      "OK - Caricata gerarchia di clustering dal path '/leonardo_work/INA24_C5B09/radio-data-curation-ssl/outputs/clusters/clusters-n_levels_2-level0_5000-level1_50_a33db3d6'\n",
      "   Numero totale di livelli: 2\n",
      "   - Livello 0:\n",
      "     > Numero di cluster: 5000\n",
      "     > Shape centroidi: (5000, 512)\n",
      "   - Livello 1:\n",
      "     > Numero di cluster: 50\n",
      "     > Shape centroidi: (50, 512)\n"
     ]
    }
   ],
   "source": [
    "# Aggiungi a inspect_artifacts.py o al notebook\n",
    "\n",
    "# =============================================================================\n",
    "# SNIPPET 6: Caricare una Gerarchia di Clustering Complessa via MLflow\n",
    "# =============================================================================\n",
    "print(\"\\n--- Ispezione Artefatto: Gerarchia di Clustering ---\")\n",
    "path_to_clustering_dir = Path(\"/leonardo_work/INA24_C5B09/radio-data-curation-ssl/outputs/clusters/clusters-n_levels_2-level0_5000-level1_50_a33db3d6\")\n",
    "\n",
    "try:\n",
    "    # ID della run di 'clustering'\n",
    "    clustering_data = ClusteringLoader.from_directory(path_to_clustering_dir)\n",
    "    \n",
    "    print(f\"OK - Caricata gerarchia di clustering dal path '{path_to_clustering_dir}'\")\n",
    "    print(f\"   Numero totale di livelli: {clustering_data.n_levels}\")\n",
    "    \n",
    "    for level in clustering_data.levels:\n",
    "        print(f\"   - Livello {level.level_index}:\")\n",
    "        print(f\"     > Numero di cluster: {len(level.clusters)}\")\n",
    "        print(f\"     > Shape centroidi: {level.centroids.shape}\")\n",
    "\n",
    "except SourceNotFoundError as e:\n",
    "    print(f\"ERRORE nel caricare il clustering dal path '{path_to_clustering_dir}': {e}\")"
   ]
  },
  {
   "cell_type": "code",
   "execution_count": 2,
   "metadata": {},
   "outputs": [
    {
     "name": "stdout",
     "output_type": "stream",
     "text": [
      "\n",
      "--- Ispezione Artefatto: Gerarchia di Clustering via MLflow ---\n",
      "OK - Caricata gerarchia di clustering dalla run '38c2ef82a74c4b948af8dd7d5f14741c'\n",
      "   Numero totale di livelli: 2\n",
      "   - Livello 0:\n",
      "     > Numero di cluster: 5000\n",
      "     > Shape centroidi: (5000, 512)\n",
      "   - Livello 1:\n",
      "     > Numero di cluster: 50\n",
      "     > Shape centroidi: (50, 512)\n"
     ]
    }
   ],
   "source": [
    "# Aggiungi a inspect_artifacts.py o al notebook\n",
    "\n",
    "# =============================================================================\n",
    "# SNIPPET 6: Caricare una Gerarchia di Clustering Complessa via MLflow\n",
    "# =============================================================================\n",
    "print(\"\\n--- Ispezione Artefatto: Gerarchia di Clustering via MLflow ---\")\n",
    "\n",
    "try:\n",
    "    # ID della run di 'clustering'\n",
    "    clustering_run_id = \"38c2ef82a74c4b948af8dd7d5f14741c\" \n",
    "    \n",
    "    clustering_data = MLflowArtifactLoader.load_clustering_from_mlflow(\n",
    "        clustering_run_id, \n",
    "        project_root=project_root\n",
    "    )\n",
    "    \n",
    "    print(f\"OK - Caricata gerarchia di clustering dalla run '{clustering_run_id}'\")\n",
    "    print(f\"   Numero totale di livelli: {clustering_data.n_levels}\")\n",
    "    \n",
    "    for level in clustering_data.levels:\n",
    "        print(f\"   - Livello {level.level_index}:\")\n",
    "        print(f\"     > Numero di cluster: {len(level.clusters)}\")\n",
    "        print(f\"     > Shape centroidi: {level.centroids.shape}\")\n",
    "\n",
    "except SourceNotFoundError as e:\n",
    "    print(f\"ERRORE nel caricare il clustering dalla run '{clustering_run_id}': {e}\")"
   ]
  },
  {
   "cell_type": "code",
   "execution_count": 6,
   "metadata": {},
   "outputs": [
    {
     "name": "stdout",
     "output_type": "stream",
     "text": [
      "\n",
      "--- Ispezione Artefatto: Sampled Indices ---\n",
      "ERRORE: Impossibile caricare gli indici campionati. File di indici campionati non trovato: path/to/your/clustering_exp_dir/curated_datasets/1c_mul1_..._selection.npy\n"
     ]
    }
   ],
   "source": [
    "# =============================================================================\n",
    "# SNIPPET 4: Caricare gli Indici Campionati\n",
    "# =============================================================================\n",
    "print(\"\\n--- Ispezione Artefatto: Sampled Indices ---\")\n",
    "# Prerequisito: Trova il path di un file .npy generato da sampling.py\n",
    "path_to_sampled_indices = Path(\"/leonardo_work/INA24_C5B09/radio-data-curation-ssl/outputs/clusters/clusters-n_levels_2-level0_5000-level1_50_a33db3d6/subsampled_indices-target_size_30000_fe1e6f21.npy\")\n",
    "\n",
    "try:\n",
    "    sampled_indices_data = SamplingLoader.from_npy(path_to_sampled_indices)\n",
    "    \n",
    "    print(f\"Caricamento indici riuscito da: {path_to_sampled_indices}\")\n",
    "    print(f\"Numero totale di indici campionati: {len(sampled_indices_data.indices)}\")\n",
    "    \n",
    "    if sampled_indices_data.indices.size > 0:\n",
    "        print(f\"Valore minimo/massimo degli indici: {sampled_indices_data.indices.min()} / {sampled_indices_data.indices.max()}\")\n",
    "        print(f\"Primi 10 indici campionati: {sampled_indices_data.indices[:10]}\")\n",
    "\n",
    "except SourceNotFoundError as e:\n",
    "    print(f\"ERRORE: Impossibile caricare gli indici campionati. {e}\")\n",
    "except Exception as e:\n",
    "    print(f\"ERRORE INATTESO: {e}\")"
   ]
  },
  {
   "cell_type": "code",
   "execution_count": 3,
   "metadata": {},
   "outputs": [
    {
     "name": "stdout",
     "output_type": "stream",
     "text": [
      "\n",
      "--- Ispezione Artefatti via MLflow ---\n",
      "OK - Caricata MergedCutoutList dalla run 'c6e73956a66a49f98117157279342b47'\n",
      "   Trovati 3112435 cutout.\n"
     ]
    }
   ],
   "source": [
    "# Importa la nuova classe facade\n",
    "# =============================================================================\n",
    "# SNIPPET 5: Caricare artefatti tramite MLflow Run ID\n",
    "# =============================================================================\n",
    "print(\"\\n--- Ispezione Artefatti via MLflow ---\")\n",
    "\n",
    "# --- 5a: Caricare una MergedCutoutList ---\n",
    "try:\n",
    "    # ID della run di 'merge_cutouts'\n",
    "    merge_run_id = \"c6e73956a66a49f98117157279342b47\" \n",
    "    merged_cutouts = MLflowArtifactLoader.load_cutout_list_from_mlflow(merge_run_id, project_root=project_root)\n",
    "    print(f\"OK - Caricata MergedCutoutList dalla run '{merge_run_id}'\")\n",
    "    print(f\"   Trovati {len(merged_cutouts.cutouts)} cutout.\")\n",
    "except SourceNotFoundError as e:\n",
    "    print(f\"ERRORE nel caricare la MergedCutoutList dalla run '{merge_run_id}': {e}\")"
   ]
  },
  {
   "cell_type": "code",
   "execution_count": 2,
   "metadata": {},
   "outputs": [
    {
     "name": "stdout",
     "output_type": "stream",
     "text": [
      "\n",
      "OK - Caricate Features (compatibile .npy) dalla run '94511e7430364c938bdaf44d725dc36c'\n",
      "   Shape delle features: (3112435, 384)\n"
     ]
    }
   ],
   "source": [
    "try:\n",
    "    features_run_id = \"94511e7430364c938bdaf44d725dc36c\"\n",
    "    # Passa `project_root` al metodo!\n",
    "    features_data = MLflowArtifactLoader.load_features_from_mlflow(features_run_id, project_root=project_root)\n",
    "    \n",
    "    print(f\"\\nOK - Caricate Features (compatibile .npy) dalla run '{features_run_id}'\")\n",
    "    print(f\"   Shape delle features: {features_data.features.shape}\")\n",
    "except SourceNotFoundError as e:\n",
    "    print(f\"ERRORE nel caricare le Features dalla run '{features_run_id}': {e}\")"
   ]
  }
 ],
 "metadata": {
  "kernelspec": {
   "display_name": "Python 3",
   "language": "python",
   "name": "python3"
  },
  "language_info": {
   "codemirror_mode": {
    "name": "ipython",
    "version": 3
   },
   "file_extension": ".py",
   "mimetype": "text/x-python",
   "name": "python",
   "nbconvert_exporter": "python",
   "pygments_lexer": "ipython3",
   "version": "3.10.13"
  }
 },
 "nbformat": 4,
 "nbformat_minor": 2
}
