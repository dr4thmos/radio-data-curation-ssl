{
 "cells": [
  {
   "cell_type": "code",
   "execution_count": 3,
   "metadata": {},
   "outputs": [],
   "source": [
    "import numpy as np\n",
    "import pandas as pd\n",
    "import matplotlib.pyplot as plt"
   ]
  },
  {
   "cell_type": "code",
   "execution_count": 10,
   "metadata": {},
   "outputs": [],
   "source": [
    "info = pd.read_json(\"/home/tcecconello/radioimgs/radio-data-curation-ssl/LoTSS/cutouts/info.json\", orient='index')\n",
    "sampled_indices = np.load(\"/home/tcecconello/radioimgs/radio-data-curation-ssl/data/custom/level2/step9/sampled_indices.npy\")"
   ]
  },
  {
   "cell_type": "code",
   "execution_count": 11,
   "metadata": {},
   "outputs": [
    {
     "data": {
      "text/html": [
       "<div>\n",
       "<style scoped>\n",
       "    .dataframe tbody tr th:only-of-type {\n",
       "        vertical-align: middle;\n",
       "    }\n",
       "\n",
       "    .dataframe tbody tr th {\n",
       "        vertical-align: top;\n",
       "    }\n",
       "\n",
       "    .dataframe thead th {\n",
       "        text-align: right;\n",
       "    }\n",
       "</style>\n",
       "<table border=\"1\" class=\"dataframe\">\n",
       "  <thead>\n",
       "    <tr style=\"text-align: right;\">\n",
       "      <th></th>\n",
       "      <th>file_path</th>\n",
       "      <th>source_type</th>\n",
       "      <th>survey</th>\n",
       "      <th>mosaic_name</th>\n",
       "      <th>position</th>\n",
       "      <th>size</th>\n",
       "    </tr>\n",
       "  </thead>\n",
       "  <tbody>\n",
       "    <tr>\n",
       "      <th>0</th>\n",
       "      <td>/home/tcecconello/radioimgs/radio-data-curatio...</td>\n",
       "      <td>UNKNOWN</td>\n",
       "      <td>LoTTS</td>\n",
       "      <td>P334+36</td>\n",
       "      <td>[128, 3968]</td>\n",
       "      <td>256</td>\n",
       "    </tr>\n",
       "    <tr>\n",
       "      <th>1</th>\n",
       "      <td>/home/tcecconello/radioimgs/radio-data-curatio...</td>\n",
       "      <td>UNKNOWN</td>\n",
       "      <td>LoTTS</td>\n",
       "      <td>P334+36</td>\n",
       "      <td>[128, 4096]</td>\n",
       "      <td>256</td>\n",
       "    </tr>\n",
       "    <tr>\n",
       "      <th>2</th>\n",
       "      <td>/home/tcecconello/radioimgs/radio-data-curatio...</td>\n",
       "      <td>UNKNOWN</td>\n",
       "      <td>LoTTS</td>\n",
       "      <td>P334+36</td>\n",
       "      <td>[128, 4224]</td>\n",
       "      <td>256</td>\n",
       "    </tr>\n",
       "    <tr>\n",
       "      <th>3</th>\n",
       "      <td>/home/tcecconello/radioimgs/radio-data-curatio...</td>\n",
       "      <td>UNKNOWN</td>\n",
       "      <td>LoTTS</td>\n",
       "      <td>P334+36</td>\n",
       "      <td>[128, 4352]</td>\n",
       "      <td>256</td>\n",
       "    </tr>\n",
       "    <tr>\n",
       "      <th>4</th>\n",
       "      <td>/home/tcecconello/radioimgs/radio-data-curatio...</td>\n",
       "      <td>UNKNOWN</td>\n",
       "      <td>LoTTS</td>\n",
       "      <td>P334+36</td>\n",
       "      <td>[128, 4480]</td>\n",
       "      <td>256</td>\n",
       "    </tr>\n",
       "  </tbody>\n",
       "</table>\n",
       "</div>"
      ],
      "text/plain": [
       "                                           file_path source_type survey  \\\n",
       "0  /home/tcecconello/radioimgs/radio-data-curatio...     UNKNOWN  LoTTS   \n",
       "1  /home/tcecconello/radioimgs/radio-data-curatio...     UNKNOWN  LoTTS   \n",
       "2  /home/tcecconello/radioimgs/radio-data-curatio...     UNKNOWN  LoTTS   \n",
       "3  /home/tcecconello/radioimgs/radio-data-curatio...     UNKNOWN  LoTTS   \n",
       "4  /home/tcecconello/radioimgs/radio-data-curatio...     UNKNOWN  LoTTS   \n",
       "\n",
       "  mosaic_name     position  size  \n",
       "0     P334+36  [128, 3968]   256  \n",
       "1     P334+36  [128, 4096]   256  \n",
       "2     P334+36  [128, 4224]   256  \n",
       "3     P334+36  [128, 4352]   256  \n",
       "4     P334+36  [128, 4480]   256  "
      ]
     },
     "execution_count": 11,
     "metadata": {},
     "output_type": "execute_result"
    }
   ],
   "source": [
    "info.head()"
   ]
  },
  {
   "cell_type": "code",
   "execution_count": 24,
   "metadata": {},
   "outputs": [],
   "source": [
    "sampled_info = info.iloc[sampled_indices]"
   ]
  },
  {
   "cell_type": "code",
   "execution_count": 9,
   "metadata": {},
   "outputs": [
    {
     "data": {
      "text/plain": [
       "array([  1,   2,   3,   4,   5,   6,   7,   9,  11,  12,  13,  14,  15,\n",
       "        18,  20,  21,  22,  23,  24,  26,  27,  28,  29,  30,  32,  33,\n",
       "        34,  35,  37,  38,  39,  40,  41,  42,  43,  44,  45,  46,  48,\n",
       "        50,  51,  52,  54,  55,  56,  57,  58,  59,  60,  61,  62,  64,\n",
       "        65,  66,  67,  69,  70,  71,  73,  75,  77,  80,  81,  82,  83,\n",
       "        86,  89,  90,  92,  93,  94,  96,  97,  98, 100, 101, 102, 103,\n",
       "       105, 106, 107, 111, 112, 113, 114, 115, 116, 117, 119, 120, 121,\n",
       "       123, 124, 126, 128, 129, 131, 132, 133, 135, 137, 138, 139, 142,\n",
       "       143, 144, 147, 148, 152, 153, 154, 155, 156, 157, 158, 159, 160,\n",
       "       161, 162, 163, 164, 166, 167, 168, 171, 172, 174, 176, 177, 178,\n",
       "       180, 184, 186, 188, 189, 191, 192, 193, 196])"
      ]
     },
     "execution_count": 9,
     "metadata": {},
     "output_type": "execute_result"
    }
   ],
   "source": [
    "sampled_indices"
   ]
  },
  {
   "cell_type": "code",
   "execution_count": 25,
   "metadata": {},
   "outputs": [
    {
     "ename": "NameError",
     "evalue": "name 'plt' is not defined",
     "output_type": "error",
     "traceback": [
      "\u001b[0;31m---------------------------------------------------------------------------\u001b[0m",
      "\u001b[0;31mNameError\u001b[0m                                 Traceback (most recent call last)",
      "Cell \u001b[0;32mIn[25], line 4\u001b[0m\n\u001b[1;32m      2\u001b[0m image_data \u001b[38;5;241m=\u001b[39m np\u001b[38;5;241m.\u001b[39mload(row[\u001b[38;5;124m'\u001b[39m\u001b[38;5;124mfile_path\u001b[39m\u001b[38;5;124m'\u001b[39m])\n\u001b[1;32m      3\u001b[0m normalized_image \u001b[38;5;241m=\u001b[39m np\u001b[38;5;241m.\u001b[39mlog1p(image_data)\n\u001b[0;32m----> 4\u001b[0m \u001b[43mplt\u001b[49m\u001b[38;5;241m.\u001b[39mfigure()\n\u001b[1;32m      5\u001b[0m plt\u001b[38;5;241m.\u001b[39mimshow(normalized_image, cmap\u001b[38;5;241m=\u001b[39m\u001b[38;5;124m'\u001b[39m\u001b[38;5;124mgray\u001b[39m\u001b[38;5;124m'\u001b[39m)  \u001b[38;5;66;03m# Usa colormap in scala di grigi\u001b[39;00m\n\u001b[1;32m      6\u001b[0m plt\u001b[38;5;241m.\u001b[39mtitle(\u001b[38;5;124mf\u001b[39m\u001b[38;5;124m\"\u001b[39m\u001b[38;5;124mLog-Normalized Image: \u001b[39m\u001b[38;5;132;01m{\u001b[39;00mrow[\u001b[38;5;124m'\u001b[39m\u001b[38;5;124mfile_path\u001b[39m\u001b[38;5;124m'\u001b[39m]\u001b[38;5;132;01m}\u001b[39;00m\u001b[38;5;124m\"\u001b[39m)\n",
      "\u001b[0;31mNameError\u001b[0m: name 'plt' is not defined"
     ]
    }
   ],
   "source": [
    "for idx, row in sampled_info.iterrows():\n",
    "    image_data = np.load(row['file_path'])\n",
    "    normalized_image = np.log1p(image_data)\n",
    "    plt.figure()\n",
    "    plt.imshow(normalized_image, cmap='gray')  # Usa colormap in scala di grigi\n",
    "    plt.title(f\"Log-Normalized Image: {row['file_path']}\")\n",
    "    plt.colorbar(label=\"Pixel Intensity (Log Scale)\")  # Aggiunge una barra di colore\n",
    "    plt.axis('off')  # Nasconde gli assi\n",
    "    plt.show()"
   ]
  }
 ],
 "metadata": {
  "kernelspec": {
   "display_name": "base",
   "language": "python",
   "name": "python3"
  },
  "language_info": {
   "codemirror_mode": {
    "name": "ipython",
    "version": 3
   },
   "file_extension": ".py",
   "mimetype": "text/x-python",
   "name": "python",
   "nbconvert_exporter": "python",
   "pygments_lexer": "ipython3",
   "version": "3.11.4"
  }
 },
 "nbformat": 4,
 "nbformat_minor": 2
}
